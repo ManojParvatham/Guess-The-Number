{
 "cells": [
  {
   "cell_type": "code",
   "execution_count": null,
   "metadata": {},
   "outputs": [],
   "source": [
    "import random\n",
    "\n",
    "def computer_guess(x):\n",
    "    guess = 0\n",
    "    low = 1\n",
    "    high = x\n",
    "    feedback = ''\n",
    "    while feedback != 'c':\n",
    "        if low != high:\n",
    "            guess = random.randint(low, high)\n",
    "        else:\n",
    "            guess = low #high too i.e low = high\n",
    "        feedback = input(f'Is {guess} too high (H), too low (L), or correct (C)?? ').lower()\n",
    "        if feedback == 'h':\n",
    "            high = guess - 1\n",
    "        elif feedback == 'l':\n",
    "            low = guess + 1\n",
    "    print(f'The computer guessed your number, {guess}, correctly')\n",
    "                         \n",
    "computer_guess(1000)                        "
   ]
  },
  {
   "cell_type": "code",
   "execution_count": null,
   "metadata": {},
   "outputs": [],
   "source": []
  }
 ],
 "metadata": {
  "kernelspec": {
   "display_name": "Python 3",
   "language": "python",
   "name": "python3"
  },
  "language_info": {
   "codemirror_mode": {
    "name": "ipython",
    "version": 3
   },
   "file_extension": ".py",
   "mimetype": "text/x-python",
   "name": "python",
   "nbconvert_exporter": "python",
   "pygments_lexer": "ipython3",
   "version": "3.8.5"
  }
 },
 "nbformat": 4,
 "nbformat_minor": 4
}
